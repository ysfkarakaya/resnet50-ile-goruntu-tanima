{
  "nbformat": 4,
  "nbformat_minor": 0,
  "metadata": {
    "colab": {
      "name": "resnet50_goruntu_tanima.ipynb",
      "provenance": [],
      "collapsed_sections": [],
      "authorship_tag": "ABX9TyM9aDmwCtoEZgII+hpQXvMw",
      "include_colab_link": true
    },
    "kernelspec": {
      "name": "python3",
      "display_name": "Python 3"
    },
    "language_info": {
      "name": "python"
    }
  },
  "cells": [
    {
      "cell_type": "markdown",
      "metadata": {
        "id": "view-in-github",
        "colab_type": "text"
      },
      "source": [
        "<a href=\"https://colab.research.google.com/github/ysfkarakaya/resnet50-ile-goruntu-tanima/blob/main/resnet50_goruntu_tanima.ipynb\" target=\"_parent\"><img src=\"https://colab.research.google.com/assets/colab-badge.svg\" alt=\"Open In Colab\"/></a>"
      ]
    },
    {
      "cell_type": "code",
      "execution_count": null,
      "metadata": {
        "id": "R-wFbJDD5SKp"
      },
      "outputs": [],
      "source": [
        "from google.colab import drive\n",
        "drive.mount('/gdrive')\n",
        "%cd /gdrive"
      ]
    },
    {
      "cell_type": "code",
      "source": [
        "import os \n",
        "os.chdir(\"/gdrive/MyDrive/python_nesne/\")"
      ],
      "metadata": {
        "id": "Fa89EIcY5hbx"
      },
      "execution_count": null,
      "outputs": []
    },
    {
      "cell_type": "code",
      "source": [
        "!pip3 install -q keras\n",
        "!pip3 install translate"
      ],
      "metadata": {
        "id": "LyPN7Toc6WP6"
      },
      "execution_count": null,
      "outputs": []
    },
    {
      "cell_type": "code",
      "source": [
        "from keras.applications.resnet import ResNet50\n",
        "from keras.preprocessing.image import img_to_array\n",
        "from keras.applications import imagenet_utils\n",
        "from PIL import Image\n",
        "import numpy as np\n",
        "from io import BytesIO\n",
        "import os\n",
        "import requests\n",
        "from translate import Translator\n"
      ],
      "metadata": {
        "id": "yY8eTf046aJn"
      },
      "execution_count": null,
      "outputs": []
    },
    {
      "cell_type": "code",
      "source": [
        "model = ResNet50(weights=\"imagenet\")"
      ],
      "metadata": {
        "id": "h4NqaFOw6dKX"
      },
      "execution_count": null,
      "outputs": []
    },
    {
      "cell_type": "code",
      "source": [
        "def prepare_image(image, target):\n",
        "\t# giriş görüntüsünü yeniden boyutlandırma ve ön işlemerin yapılması\n",
        "\timage = image.resize(target)\n",
        "\timage = img_to_array(image)\n",
        "\timage = np.expand_dims(image, axis=0)\n",
        "\timage = imagenet_utils.preprocess_input(image)\n",
        "\n",
        "\t# işlenmiş görüntüyü alma\n",
        "\t\n",
        "\treturn image"
      ],
      "metadata": {
        "id": "ABimoZKO6iLn"
      },
      "execution_count": null,
      "outputs": []
    },
    {
      "cell_type": "code",
      "source": [
        "# ImageURL = \"https://imgix.bustle.com/uploads/image/2018/4/9/471897e4-4a04-4373-9112-53c381928d89-shutterstock_1064524748.jpg?w=970&h=582&fit=crop&crop=faces&auto=format&q=70\"\n",
        "# response = requests.get(ImageURL)\n",
        "# image = Image.open(BytesIO(response.content)) \n",
        "# pre_image = prepare_image(image, target=(224, 224)) # 224 x 224 boyutlu hale getir\n",
        "# pre_image"
      ],
      "metadata": {
        "id": "OtgHLB-UOLbX"
      },
      "execution_count": null,
      "outputs": []
    },
    {
      "cell_type": "code",
      "source": [
        "def tr_cevir(metin):\n",
        "  translator= Translator(to_lang=\"tr\")\n",
        "  veri = translator.translate(metin)\n",
        "  return veri"
      ],
      "metadata": {
        "id": "B8zVQIQd69Pg"
      },
      "execution_count": null,
      "outputs": []
    },
    {
      "cell_type": "code",
      "source": [
        "def resnet_tanimlama(image_url): \n",
        "\tdata = {\"durum\": False}\n",
        "\tresponse = requests.get(image_url)\n",
        "\timage = Image.open(BytesIO(response.content)) \n",
        "\n",
        "\tpre_image = prepare_image(image, target=(224, 224)) # 224 x 224 boyutlu hale getir\n",
        "\n",
        "\tpreds = model.predict(pre_image) # Kesirim modeline ön işlemden geçmiş görüntüyü uygula\n",
        "\n",
        "\tresults = imagenet_utils.decode_predictions(preds) #kestirim\n",
        "\tdata[\"tahminler\"] = []\n",
        "\n",
        "\n",
        "\tfor (imagenetID, label, prob) in results[0]: # ImageNet veri kümseinden etiket, olasılık ve kestrim sonucunu al\n",
        "  \t\tr = {\"isim\": label, \"istatistik\": float(prob)}\n",
        "  \t\tdata[\"tahminler\"].append(r)\n",
        "  \n",
        "\tdata[\"durum\"] = True\n",
        "\n",
        "\tprint(data)\n",
        "\t\n",
        "\tveri = tr_cevir(data[\"tahminler\"][0][\"isim\"])\n",
        "  \n",
        "\tprint(\"Yüklenen Resim {0} Olasılıkla '{1}' dir.\\n\".format(data[\"tahminler\"][0][\"istatistik\"],veri)) \n",
        "# Fonksiyon Bitiş\n",
        "\n",
        "\n",
        "\n"
      ],
      "metadata": {
        "id": "y9kBqI5_KlvP"
      },
      "execution_count": 25,
      "outputs": []
    },
    {
      "cell_type": "code",
      "source": [
        "\n",
        "\n",
        "resnet_tanimlama(\"https://imgix.bustle.com/uploads/image/2018/4/9/471897e4-4a04-4373-9112-53c381928d89-shutterstock_1064524748.jpg?w=970&h=582&fit=crop&crop=faces&auto=format&q=70\")\n",
        "resnet_tanimlama(\"https://www.vipkalemsepeti.com/upload/editor/data/ckfinder/images/Tukenmez-Kalem/scrikss/noble%2035/scrikss-35-siyah-tukenmez-kalem-noble.jpg\")\n",
        "resnet_tanimlama(\"https://ix-www.imgix.net/hp/snowshoe.jpg?q=70&w=1074&auto=compress%2Cenhance&fm=jpeg&ixlib=imgixjs-3.5.1\")\n",
        "resnet_tanimlama(\"https://img-s1.onedio.com/id-57ab39e97027962828cb48fe/rev-0/w-620/f-jpg/s-75ffd66256d92158cbc6f0fde25b7258c1647cce.jpg\")\n",
        "\n"
      ],
      "metadata": {
        "id": "-iJjLo8yN2CJ"
      },
      "execution_count": null,
      "outputs": []
    }
  ]
}